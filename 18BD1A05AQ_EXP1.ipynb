{
  "nbformat": 4,
  "nbformat_minor": 0,
  "metadata": {
    "colab": {
      "name": "18BD1A05AQ_EXP1.ipynb",
      "provenance": [],
      "collapsed_sections": [],
      "authorship_tag": "ABX9TyMjSHxHVjEx+Z3lxa3p3GDc",
      "include_colab_link": true
    },
    "kernelspec": {
      "name": "python3",
      "display_name": "Python 3"
    },
    "language_info": {
      "name": "python"
    }
  },
  "cells": [
    {
      "cell_type": "markdown",
      "metadata": {
        "id": "view-in-github",
        "colab_type": "text"
      },
      "source": [
        "<a href=\"https://colab.research.google.com/github/nithya0603/18BD1A05AQ_PROJECT_1/blob/master/18BD1A05AQ_EXP1.ipynb\" target=\"_parent\"><img src=\"https://colab.research.google.com/assets/colab-badge.svg\" alt=\"Open In Colab\"/></a>"
      ]
    },
    {
      "cell_type": "code",
      "metadata": {
        "colab": {
          "base_uri": "https://localhost:8080/"
        },
        "id": "lB3DPoLsuIbo",
        "outputId": "889af469-6472-45f6-ec00-2c584f9540e2"
      },
      "source": [
        "#calculate the probability that a student is absent given that today is friday\n",
        "\n",
        "#calculate p(A|F) given p(F) ,p(F^A)\n",
        "def bayes_theorem(p_f,p_f_and_a):\n",
        "  p_a_given_f=(p_f_and_a) /p_f\n",
        "  return p_a_given_f\n",
        "\n",
        "#p(F)\n",
        "p_f=0.2\n",
        "# p(F^A)\n",
        "p_f_and_a =0.03\n",
        "#calculate p(A|F)\n",
        "result = bayes_theorem(p_f,p_f_and_a)\n",
        "#summarize\n",
        "print('P(A|F) = %.3f%%' % (result * 100))"
      ],
      "execution_count": 1,
      "outputs": [
        {
          "output_type": "stream",
          "text": [
            "P(A|F) = 15.000%\n"
          ],
          "name": "stdout"
        }
      ]
    }
  ]
}